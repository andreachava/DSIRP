{
 "cells": [
  {
   "cell_type": "markdown",
   "metadata": {},
   "source": [
    "# Quiz 1\n",
    "\n",
    "BEFORE YOU START THIS QUIZ:\n",
    "\n",
    "1. Click on \"Copy to Drive\" to make a copy of the quiz,\n",
    "\n",
    "2. Click on \"Share\",\n",
    "    \n",
    "3. Click on \"Change\" and select \"Anyone with this link can edit\"\n",
    "    \n",
    "4. Click \"Copy link\" and\n",
    "\n",
    "5. Paste the link into [this Canvas assignment](https://canvas.olin.edu/courses/313/assignments/4866). \n",
    "\n",
    "Copyright 2021 Allen Downey, [MIT License](http://opensource.org/licenses/MIT)"
   ]
  },
  {
   "cell_type": "markdown",
   "metadata": {},
   "source": [
    "## Setup"
   ]
  },
  {
   "cell_type": "markdown",
   "metadata": {},
   "source": [
    "The following cells download a file that contains a list of words, reads the words, and stores them in a `set`."
   ]
  },
  {
   "cell_type": "code",
   "execution_count": null,
   "metadata": {},
   "outputs": [],
   "source": [
    "from os.path import basename, exists\n",
    "\n",
    "def download(url):\n",
    "    filename = basename(url)\n",
    "    if not exists(filename):\n",
    "        from urllib.request import urlretrieve\n",
    "        local, _ = urlretrieve(url, filename)\n",
    "        print('Downloaded ' + local)\n",
    "    \n",
    "download('https://github.com/AllenDowney/DSIRP/raw/main/american-english')"
   ]
  },
  {
   "cell_type": "code",
   "execution_count": 4,
   "metadata": {},
   "outputs": [],
   "source": [
    "def read_words(filename):\n",
    "    \"\"\"Read lines from a file and split them into words.\"\"\"\n",
    "    res = set()\n",
    "    for line in open(filename):\n",
    "        for word in line.split():\n",
    "            res.add(word.strip().lower())\n",
    "    return res"
   ]
  },
  {
   "cell_type": "code",
   "execution_count": 54,
   "metadata": {},
   "outputs": [
    {
     "data": {
      "text/plain": [
       "100781"
      ]
     },
     "execution_count": 54,
     "metadata": {},
     "output_type": "execute_result"
    }
   ],
   "source": [
    "word_list = read_words('american-english')\n",
    "len(word_list)"
   ]
  },
  {
   "cell_type": "markdown",
   "metadata": {},
   "source": [
    "## Question 1\n",
    "\n",
    "The following function takes a string and returns `True` if the letters in the string appear in alphabetical order."
   ]
  },
  {
   "cell_type": "code",
   "execution_count": 12,
   "metadata": {},
   "outputs": [],
   "source": [
    "def is_alphabetical(word):\n",
    "    return list(word) == sorted(word)"
   ]
  },
  {
   "cell_type": "code",
   "execution_count": 13,
   "metadata": {},
   "outputs": [
    {
     "data": {
      "text/plain": [
       "True"
      ]
     },
     "execution_count": 13,
     "metadata": {},
     "output_type": "execute_result"
    }
   ],
   "source": [
    "is_alphabetical('almost') # True"
   ]
  },
  {
   "cell_type": "code",
   "execution_count": 14,
   "metadata": {},
   "outputs": [
    {
     "data": {
      "text/plain": [
       "False"
      ]
     },
     "execution_count": 14,
     "metadata": {},
     "output_type": "execute_result"
    }
   ],
   "source": [
    "is_alphabetical('alphabetical') # False"
   ]
  },
  {
   "cell_type": "markdown",
   "metadata": {},
   "source": [
    "Make a new list called `alpha_words` that contains only the words in `word_list` that are alphabetical, and display the length of the list."
   ]
  },
  {
   "cell_type": "code",
   "execution_count": 17,
   "metadata": {},
   "outputs": [
    {
     "data": {
      "text/plain": [
       "502"
      ]
     },
     "execution_count": 17,
     "metadata": {},
     "output_type": "execute_result"
    }
   ],
   "source": [
    "def alphawordlist():\n",
    "    word_list = read_words('american-english')\n",
    "    alpha_words = []\n",
    "    for word in word_list:\n",
    "        if is_alphabetical(word) == True:\n",
    "            alpha_words.append(word)\n",
    "    return len(alpha_words)\n",
    "\n",
    "alphawordlist()"
   ]
  },
  {
   "cell_type": "code",
   "execution_count": 9,
   "metadata": {},
   "outputs": [],
   "source": []
  },
  {
   "cell_type": "markdown",
   "metadata": {},
   "source": [
    "## Question 2\n",
    "\n",
    "Find and display the longest word in `alpha_words`.\n",
    "If there is more than one word with the maximal length, you can display any one of them (but only one).\n",
    "\n",
    "NOTE: You can write code for this question even if your answer to the previous question doesn't work. I'll grade the code, not the output."
   ]
  },
  {
   "cell_type": "code",
   "execution_count": 19,
   "metadata": {},
   "outputs": [
    {
     "data": {
      "text/plain": [
       "'billowy'"
      ]
     },
     "execution_count": 19,
     "metadata": {},
     "output_type": "execute_result"
    }
   ],
   "source": [
    "def alphalongest():\n",
    "    alphawordlist()\n",
    "    longest = \"\"\n",
    "    for word in alpha_words:\n",
    "        if len(word) >= len(longest):\n",
    "            longest = word\n",
    "    return longest\n",
    "        \n",
    "alphalongest()\n"
   ]
  },
  {
   "cell_type": "code",
   "execution_count": 12,
   "metadata": {},
   "outputs": [],
   "source": []
  },
  {
   "cell_type": "markdown",
   "metadata": {},
   "source": [
    "## Question 3\n",
    "\n",
    "Write a function called `encompasses` that takes two words and returns `True` if the first word contains the second word, but not at the beginning or the end (and `False` otherwise). For example, `hippopotomus` encompasses the word `pot`.\n",
    "\n",
    "HINT: You might find the string method `find` useful. "
   ]
  },
  {
   "cell_type": "code",
   "execution_count": 20,
   "metadata": {},
   "outputs": [
    {
     "data": {
      "text/plain": [
       "5"
      ]
     },
     "execution_count": 20,
     "metadata": {},
     "output_type": "execute_result"
    }
   ],
   "source": [
    "'hippopotomus'.find('pot')"
   ]
  },
  {
   "cell_type": "code",
   "execution_count": 21,
   "metadata": {},
   "outputs": [
    {
     "data": {
      "text/plain": [
       "-1"
      ]
     },
     "execution_count": 21,
     "metadata": {},
     "output_type": "execute_result"
    }
   ],
   "source": [
    "'hippopotomus'.find('potato')"
   ]
  },
  {
   "cell_type": "code",
   "execution_count": 1,
   "metadata": {},
   "outputs": [],
   "source": [
    "def encompasses(a, b):\n",
    "    word1 = str(a)\n",
    "    word2 = str(b)\n",
    "    if word1.find(word2) + len(word2) == len(word1):\n",
    "        return False\n",
    "    if word1.find(word2) > 0:\n",
    "        return True\n",
    "    else:\n",
    "        return False"
   ]
  },
  {
   "cell_type": "code",
   "execution_count": 2,
   "metadata": {},
   "outputs": [
    {
     "data": {
      "text/plain": [
       "False"
      ]
     },
     "execution_count": 2,
     "metadata": {},
     "output_type": "execute_result"
    }
   ],
   "source": [
    "encompasses(\"hippopotomus\", \"mus\")"
   ]
  },
  {
   "cell_type": "code",
   "execution_count": 32,
   "metadata": {},
   "outputs": [
    {
     "data": {
      "text/plain": [
       "False"
      ]
     },
     "execution_count": 32,
     "metadata": {},
     "output_type": "execute_result"
    }
   ],
   "source": [
    "encompasses(\"hippopotomus\", \"potato\")"
   ]
  },
  {
   "cell_type": "code",
   "execution_count": 16,
   "metadata": {},
   "outputs": [],
   "source": []
  },
  {
   "cell_type": "markdown",
   "metadata": {},
   "source": [
    "You can use the following examples to test your function."
   ]
  },
  {
   "cell_type": "code",
   "execution_count": 26,
   "metadata": {},
   "outputs": [],
   "source": [
    "word1 = 'hippopotamus'\n",
    "word2 = 'pot'\n",
    "word3 = 'hippo'\n",
    "word4 = 'mus'\n",
    "word5 = 'potato'"
   ]
  },
  {
   "cell_type": "code",
   "execution_count": 33,
   "metadata": {},
   "outputs": [
    {
     "data": {
      "text/plain": [
       "True"
      ]
     },
     "execution_count": 33,
     "metadata": {},
     "output_type": "execute_result"
    }
   ],
   "source": [
    "encompasses(word1, word2) # True"
   ]
  },
  {
   "cell_type": "code",
   "execution_count": 34,
   "metadata": {},
   "outputs": [
    {
     "data": {
      "text/plain": [
       "False"
      ]
     },
     "execution_count": 34,
     "metadata": {},
     "output_type": "execute_result"
    }
   ],
   "source": [
    "encompasses(word1, word3) # False because word3 is at the beginning"
   ]
  },
  {
   "cell_type": "code",
   "execution_count": 53,
   "metadata": {},
   "outputs": [
    {
     "data": {
      "text/plain": [
       "False"
      ]
     },
     "execution_count": 53,
     "metadata": {},
     "output_type": "execute_result"
    }
   ],
   "source": [
    "encompasses(word1, word4) # False because word4 is at the end"
   ]
  },
  {
   "cell_type": "code",
   "execution_count": 38,
   "metadata": {},
   "outputs": [
    {
     "data": {
      "text/plain": [
       "False"
      ]
     },
     "execution_count": 38,
     "metadata": {},
     "output_type": "execute_result"
    }
   ],
   "source": [
    "encompasses(word1, word5) # False because word5 is not in word1"
   ]
  },
  {
   "cell_type": "markdown",
   "metadata": {},
   "source": [
    "## Question 4\n",
    "\n",
    "Two words make a \"reverse pair\" if one of them is the reverse of the other. For example, `pots` and `stop` are a reverse pair.\n",
    "\n",
    "The words in a reverse pair must be different, so `gag` and `gag` are not a reverse pair.\n",
    "\n",
    "\n",
    "Make a list of all reverse pairs in `word_list`. Each pair of words should appear only once, so if `('tons', 'snot')` is in the list, `('snot', 'tons')` should not be.\n"
   ]
  },
  {
   "cell_type": "code",
   "execution_count": 16,
   "metadata": {},
   "outputs": [
    {
     "name": "stdout",
     "output_type": "stream",
     "text": [
      "[('pat', 'tap'), ('eta', 'ate'), ('liar', 'rail'), ('no', 'on'), ('rep', 'per'), ('aron', 'nora'), ('sid', 'dis'), ('ma', 'am'), ('am', 'ma'), ('deeps', 'speed'), ('bog', 'gob'), ('deep', 'peed'), ('gals', 'slag'), ('spans', 'snaps'), ('spat', 'taps'), ('eh', 'he'), ('wolf', 'flow'), ('trap', 'part'), ('xe', 'ex'), ('faced', 'decaf'), ('pol', 'lop'), ('lime', 'emil'), ('rim', 'mir'), ('don', 'nod'), ('diaper', 'repaid'), ('rat', 'tar'), ('ton', 'not'), ('redraw', 'warder'), ('spit', 'tips'), ('sera', 'ares'), ('stressed', 'desserts'), ('aral', 'lara'), ('tim', 'mit'), ('tog', 'got'), ('sap', 'pas'), ('mood', 'doom'), ('dis', 'sid'), ('maps', 'spam'), ('annam', 'manna'), ('evan', 'nave'), ('made', 'edam'), ('selim', 'miles'), ('mir', 'rim'), ('warder', 'redraw'), ('spoons', 'snoops'), ('dam', 'mad'), ('seton', 'notes'), ('id', 'di'), ('eire', 'erie'), ('tuber', 'rebut'), ('laud', 'dual'), ('rae', 'ear'), ('rot', 'tor'), ('reined', 'denier'), ('damon', 'nomad'), ('was', 'saw'), ('stink', 'knits'), ('ogre', 'ergo'), ('mart', 'tram'), ('avon', 'nova'), ('delbert', 'trebled'), ('dial', 'laid'), ('lager', 'regal'), ('stub', 'buts'), ('ajar', 'raja'), ('bud', 'dub'), ('mug', 'gum'), ('meh', 'hem'), ('sloops', 'spools'), ('ban', 'nab'), ('nil', 'lin'), ('decal', 'laced'), ('etna', 'ante'), ('net', 'ten'), ('nib', 'bin'), ('pals', 'slap'), ('trams', 'smart'), ('stab', 'bats'), ('knits', 'stink'), ('sire', 'eris'), ('pools', 'sloop'), ('paws', 'swap'), ('se', 'es'), ('sod', 'dos'), ('enid', 'dine'), ('wen', 'new'), ('sumac', 'camus'), ('noe', 'eon'), ('time', 'emit'), ('silos', 'solis'), ('timer', 'remit'), ('wang', 'gnaw'), ('pb', 'bp'), ('it', 'ti'), ('emit', 'time'), ('sol', 'los'), ('ten', 'net'), ('spools', 'sloops'), ('rub', 'bur'), ('andes', 'sedna'), ('burg', 'grub'), ('di', 'id'), ('trebled', 'delbert'), ('hoop', 'pooh'), ('lived', 'devil'), ('strops', 'sports'), ('reel', 'leer'), ('strop', 'ports'), ('noel', 'leon'), ('trot', 'tort'), ('peek', 'keep'), ('warts', 'straw'), ('gob', 'bog'), ('note', 'eton'), ('mad', 'dam'), ('step', 'pets'), ('pool', 'loop'), ('las', 'sal'), ('anal', 'lana'), ('marc', 'cram'), ('may', 'yam'), ('taps', 'spat'), ('elbert', 'treble'), ('spool', 'loops'), ('tang', 'gnat'), ('pam', 'map'), ('gal', 'lag'), ('gulp', 'plug'), ('lap', 'pal'), ('tub', 'but'), ('steels', 'sleets'), ('snit', 'tins'), ('parts', 'strap'), ('abut', 'tuba'), ('in', 'ni'), ('pets', 'step'), ('bad', 'dab'), ('cod', 'doc'), ('draw', 'ward'), ('era', 'are'), ('wets', 'stew'), ('tips', 'spit'), ('ni', 'in'), ('oh', 'ho'), ('got', 'tog'), ('bus', 'sub'), ('peels', 'sleep'), ('edam', 'made'), ('ha', 'ah'), ('sub', 'bus'), ('sleets', 'steels'), ('los', 'sol'), ('meg', 'gem'), ('but', 'tub'), ('naps', 'span'), ('tool', 'loot'), ('buns', 'snub'), ('sinned', 'dennis'), ('sung', 'gnus'), ('sway', 'yaws'), ('loots', 'stool'), ('leon', 'noel'), ('yap', 'pay'), ('denier', 'reined'), ('swam', 'maws'), ('meet', 'teem'), ('repaid', 'diaper'), ('snot', 'tons'), ('diva', 'avid'), ('nips', 'spin'), ('nit', 'tin'), ('cram', 'marc'), ('bats', 'stab'), ('tarps', 'sprat'), ('nod', 'don'), ('are', 'era'), ('slag', 'gals'), ('lara', 'aral'), ('tug', 'gut'), ('mat', 'tam'), ('sedna', 'andes'), ('nor', 'ron'), ('sega', 'ages'), ('lien', 'neil'), ('mu', 'um'), ('pit', 'tip'), ('repel', 'leper'), ('naive', 'evian'), ('spots', 'stops'), ('saab', 'baas'), ('avid', 'diva'), ('ailed', 'delia'), ('looter', 'retool'), ('snips', 'spins'), ('up', 'pu'), ('keels', 'sleek'), ('yard', 'dray'), ('tins', 'snit'), ('pees', 'seep'), ('tubed', 'debut'), ('keep', 'peek'), ('dennis', 'sinned'), ('tuba', 'abut'), ('eon', 'noe'), ('girt', 'trig'), ('dot', 'tod'), ('mils', 'slim'), ('peed', 'deep'), ('bag', 'gab'), ('yaps', 'spay'), ('deliver', 'reviled'), ('hem', 'meh'), ('lee', 'eel'), ('smart', 'trams'), ('tram', 'mart'), ('dual', 'laud'), ('reviled', 'deliver'), ('loops', 'spool'), ('brag', 'garb'), ('rap', 'par'), ('evil', 'live'), ('per', 'rep'), ('pooh', 'hoop'), ('dew', 'wed'), ('dim', 'mid'), ('pu', 'up'), ('yaw', 'way'), ('nora', 'aron'), ('so', 'os'), ('gums', 'smug'), ('eton', 'note'), ('sal', 'las'), ('delia', 'ailed'), ('part', 'trap'), ('tor', 'rot'), ('on', 'no'), ('anon', 'nona'), ('mid', 'dim'), ('rail', 'liar'), ('pal', 'lap'), ('eviler', 'relive'), ('able', 'elba'), ('gnat', 'tang'), ('grub', 'burg'), ('spot', 'tops'), ('tar', 'rat'), ('smut', 'tums'), ('ward', 'draw'), ('pins', 'snip'), ('dog', 'god'), ('stun', 'nuts'), ('loot', 'tool'), ('tide', 'edit'), ('new', 'wen'), ('os', 'so'), ('tip', 'pit'), ('ron', 'nor'), ('yaws', 'sway'), ('dine', 'enid'), ('drawer', 'reward'), ('nona', 'anon'), ('relive', 'eviler'), ('gem', 'meg'), ('dab', 'bad'), ('manna', 'annam'), ('pots', 'stop'), ('asset', 'tessa'), ('ned', 'den'), ('aver', 'reva'), ('gnus', 'sung'), ('stop', 'pots'), ('gum', 'mug'), ('emir', 'rime'), ('top', 'pot'), ('ah', 'ha'), ('mit', 'tim'), ('spam', 'maps'), ('nave', 'evan'), ('seep', 'pees'), ('me', 'em'), ('devil', 'lived'), ('ports', 'strop'), ('la', 'al'), ('ina', 'ani'), ('tums', 'smut'), ('es', 'se'), ('pans', 'snap'), ('war', 'raw'), ('sprat', 'tarps'), ('spay', 'yaps'), ('roger', 'regor'), ('draws', 'sward'), ('keel', 'leek'), ('strap', 'parts'), ('golf', 'flog'), ('miles', 'selim'), ('span', 'naps'), ('not', 'ton'), ('fine', 'enif'), ('saps', 'spas'), ('errol', 'lorre'), ('mia', 'aim'), ('bur', 'rub'), ('erie', 'eire'), ('bun', 'nub'), ('um', 'mu'), ('snaps', 'spans'), ('map', 'pam'), ('avis', 'siva'), ('siva', 'avis'), ('pas', 'sap'), ('tons', 'snot'), ('gut', 'tug'), ('gnaw', 'wang'), ('live', 'evil'), ('ares', 'sera'), ('doc', 'cod'), ('tessa', 'asset'), ('trig', 'girt'), ('elba', 'able'), ('slap', 'pals'), ('si', 'is'), ('nut', 'tun'), ('bp', 'pb'), ('mar', 'ram'), ('raga', 'agar'), ('guns', 'snug'), ('deer', 'reed'), ('ex', 'xe'), ('buts', 'stub'), ('tod', 'dot'), ('edit', 'tide'), ('room', 'moor'), ('ear', 'rae'), ('decaf', 'faced'), ('stool', 'loots'), ('bin', 'nib'), ('snug', 'guns'), ('moor', 'room'), ('eel', 'lee'), ('yam', 'may'), ('snub', 'buns'), ('spins', 'snips'), ('pus', 'sup'), ('nab', 'ban'), ('kay', 'yak'), ('tab', 'bat'), ('aim', 'mia'), ('sleep', 'peels'), ('regal', 'lager'), ('dos', 'sod'), ('rime', 'emir'), ('leer', 'reel'), ('remit', 'timer'), ('al', 'la'), ('lever', 'revel'), ('nam', 'man'), ('stops', 'spots'), ('dray', 'yard'), ('won', 'now'), ('swap', 'paws'), ('agar', 'raga'), ('is', 'si'), ('tort', 'trot'), ('ani', 'ina'), ('ante', 'etna'), ('saw', 'was'), ('mined', 'denim'), ('suez', 'zeus'), ('door', 'rood'), ('maws', 'swam'), ('redo', 'oder'), ('kramer', 'remark'), ('wed', 'dew'), ('emil', 'lime'), ('fer', 'ref'), ('eros', 'sore'), ('treble', 'elbert'), ('spar', 'raps'), ('laced', 'decal'), ('leek', 'keel'), ('pot', 'top'), ('nub', 'bun'), ('par', 'rap'), ('raja', 'ajar'), ('teem', 'meet'), ('camus', 'sumac'), ('neil', 'lien'), ('flog', 'golf'), ('male', 'elam'), ('plug', 'gulp'), ('sward', 'draws'), ('em', 'me'), ('bed', 'deb'), ('nomad', 'damon'), ('snoops', 'spoons'), ('baas', 'saab'), ('snap', 'pans'), ('remark', 'kramer'), ('tap', 'pat'), ('straw', 'warts'), ('pay', 'yap'), ('lana', 'anal'), ('debut', 'tubed'), ('pin', 'nip'), ('na', 'an'), ('slop', 'pols'), ('retool', 'looter'), ('ila', 'ali'), ('ac', 'ca'), ('doom', 'mood'), ('gel', 'leg'), ('rood', 'door'), ('garb', 'brag'), ('reva', 'aver'), ('sag', 'gas'), ('loop', 'pool'), ('pols', 'slop'), ('kroc', 'cork'), ('sloop', 'pools'), ('gab', 'bag'), ('deb', 'bed'), ('now', 'won'), ('snip', 'pins'), ('flow', 'wolf'), ('tow', 'wot'), ('drab', 'bard'), ('cork', 'kroc'), ('desserts', 'stressed'), ('notes', 'seton'), ('ref', 'fer'), ('elam', 'male'), ('lop', 'pol'), ('solis', 'silos'), ('nuts', 'stun'), ('bat', 'tab'), ('god', 'dog'), ('raps', 'spar'), ('tops', 'spot'), ('tam', 'mat'), ('ram', 'mar'), ('tan', 'nat'), ('sip', 'pis'), ('eris', 'sire'), ('pis', 'sip'), ('slim', 'mils'), ('man', 'nam'), ('ages', 'sega'), ('ca', 'ac'), ('stew', 'wets'), ('lorre', 'errol'), ('lag', 'gal'), ('den', 'ned'), ('sports', 'strops'), ('ate', 'eta'), ('zeus', 'suez'), ('oat', 'tao'), ('sore', 'eros'), ('reed', 'deer'), ('raw', 'war'), ('ho', 'oh'), ('reward', 'drawer'), ('bard', 'drab'), ('lin', 'nil'), ('ali', 'ila'), ('smug', 'gums'), ('revel', 'lever'), ('emos', 'some'), ('nova', 'avon'), ('oder', 'redo'), ('star', 'rats'), ('leg', 'gel'), ('he', 'eh'), ('nap', 'pan'), ('gas', 'sag'), ('pan', 'nap'), ('sleek', 'keels'), ('regor', 'roger'), ('rebut', 'tuber'), ('nat', 'tan'), ('laid', 'dial'), ('nip', 'pin'), ('ti', 'it'), ('tao', 'oat'), ('enif', 'fine'), ('dub', 'bud'), ('spin', 'nips'), ('denim', 'mined'), ('spas', 'saps'), ('some', 'emos'), ('wot', 'tow'), ('leper', 'repel'), ('an', 'na'), ('tin', 'nit'), ('tun', 'nut'), ('way', 'yaw'), ('yak', 'kay'), ('sup', 'pus'), ('evian', 'naive'), ('ergo', 'ogre'), ('rats', 'star'), ('speed', 'deeps')]\n"
     ]
    }
   ],
   "source": [
    "def reverselist():\n",
    "    word_list = read_words('american-english')\n",
    "    pairs = []\n",
    "    used = []\n",
    "    for word in word_list:\n",
    "        rword = list(word)\n",
    "        rword.reverse()\n",
    "        rword = \"\".join(rword)\n",
    "        if rword == word:\n",
    "            used.append(word)\n",
    "        if rword in word_list and rword not in used:\n",
    "            pairs.append((word, rword))\n",
    "            used.append(rword)\n",
    "    print(pairs)\n",
    "\n",
    "reverselist()\n",
    "            \n",
    "easier method:\n",
    "\n",
    "reverse the word"
   ]
  },
  {
   "cell_type": "markdown",
   "metadata": {},
   "source": [
    "BONUS QUESTION JUST FOR FUN: What is the longest reverse pair in this word list?"
   ]
  },
  {
   "cell_type": "code",
   "execution_count": 14,
   "metadata": {},
   "outputs": [],
   "source": []
  },
  {
   "cell_type": "code",
   "execution_count": null,
   "metadata": {},
   "outputs": [],
   "source": []
  }
 ],
 "metadata": {
  "kernelspec": {
   "display_name": "Python 3.8.6 64-bit",
   "language": "python",
   "name": "python3"
  },
  "language_info": {
   "codemirror_mode": {
    "name": "ipython",
    "version": 3
   },
   "file_extension": ".py",
   "mimetype": "text/x-python",
   "name": "python",
   "nbconvert_exporter": "python",
   "pygments_lexer": "ipython3",
   "version": "3.8.6 (v3.8.6:db455296be, Sep 23 2020, 13:31:39) \n[Clang 6.0 (clang-600.0.57)]"
  },
  "vscode": {
   "interpreter": {
    "hash": "aee8b7b246df8f9039afb4144a1f6fd8d2ca17a180786b69acc140d282b71a49"
   }
  }
 },
 "nbformat": 4,
 "nbformat_minor": 1
}
